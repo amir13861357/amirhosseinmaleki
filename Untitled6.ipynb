{
  "nbformat": 4,
  "nbformat_minor": 0,
  "metadata": {
    "colab": {
      "name": "Untitled6.ipynb",
      "provenance": [],
      "toc_visible": true,
      "authorship_tag": "ABX9TyPpcfVDh/Vw4R/uGkHeBJ3y",
      "include_colab_link": true
    },
    "kernelspec": {
      "name": "python3",
      "display_name": "Python 3"
    }
  },
  "cells": [
    {
      "cell_type": "markdown",
      "metadata": {
        "id": "view-in-github",
        "colab_type": "text"
      },
      "source": [
        "<a href=\"https://colab.research.google.com/github/amir13861357/amirhosseinmaleki/blob/master/Untitled6.ipynb\" target=\"_parent\"><img src=\"https://colab.research.google.com/assets/colab-badge.svg\" alt=\"Open In Colab\"/></a>"
      ]
    },
    {
      "cell_type": "code",
      "metadata": {
        "id": "qalMGgkDKJfQ",
        "colab_type": "code",
        "colab": {}
      },
      "source": [
        "file = open(\"text\", \"w\")\n",
        "for i in range (10):\n",
        "    name = input(\"please enter your name:\")\n",
        "    mark = int(input(\"please enter your mark:\"))\n",
        "    if mark >= 21:\n",
        "        print(\"it is wrong\")\n",
        "    else:\n",
        "        student =  name,'%d'%mark\n",
        "        file.writelines(str(student))\n",
        "        file.write('\\n')\n",
        "file.close()"
      ],
      "execution_count": 0,
      "outputs": []
    }
  ]
}